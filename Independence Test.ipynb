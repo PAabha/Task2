{
 "cells": [
  {
   "cell_type": "code",
   "execution_count": 5,
   "id": "f46b2b4e",
   "metadata": {},
   "outputs": [],
   "source": [
    "import pandas as pd\n",
    "df={'Observed':[41,70],'Expected':[33,67],}"
   ]
  },
  {
   "cell_type": "code",
   "execution_count": 6,
   "id": "1dbf6862",
   "metadata": {},
   "outputs": [],
   "source": [
    "df1=pd.DataFrame(df)"
   ]
  },
  {
   "cell_type": "code",
   "execution_count": 7,
   "id": "95fcf256",
   "metadata": {},
   "outputs": [
    {
     "data": {
      "text/html": [
       "<div>\n",
       "<style scoped>\n",
       "    .dataframe tbody tr th:only-of-type {\n",
       "        vertical-align: middle;\n",
       "    }\n",
       "\n",
       "    .dataframe tbody tr th {\n",
       "        vertical-align: top;\n",
       "    }\n",
       "\n",
       "    .dataframe thead th {\n",
       "        text-align: right;\n",
       "    }\n",
       "</style>\n",
       "<table border=\"1\" class=\"dataframe\">\n",
       "  <thead>\n",
       "    <tr style=\"text-align: right;\">\n",
       "      <th></th>\n",
       "      <th>Observed</th>\n",
       "      <th>Expected</th>\n",
       "    </tr>\n",
       "  </thead>\n",
       "  <tbody>\n",
       "    <tr>\n",
       "      <th>0</th>\n",
       "      <td>41</td>\n",
       "      <td>33</td>\n",
       "    </tr>\n",
       "    <tr>\n",
       "      <th>1</th>\n",
       "      <td>70</td>\n",
       "      <td>67</td>\n",
       "    </tr>\n",
       "  </tbody>\n",
       "</table>\n",
       "</div>"
      ],
      "text/plain": [
       "   Observed  Expected\n",
       "0        41        33\n",
       "1        70        67"
      ]
     },
     "execution_count": 7,
     "metadata": {},
     "output_type": "execute_result"
    }
   ],
   "source": [
    "df1"
   ]
  },
  {
   "cell_type": "code",
   "execution_count": 8,
   "id": "17333a0c",
   "metadata": {},
   "outputs": [],
   "source": [
    "df1['diff']=df1['Observed']-df1['Expected']"
   ]
  },
  {
   "cell_type": "code",
   "execution_count": 9,
   "id": "76b5d860",
   "metadata": {},
   "outputs": [
    {
     "data": {
      "text/plain": [
       "2.073722297602895"
      ]
     },
     "execution_count": 9,
     "metadata": {},
     "output_type": "execute_result"
    }
   ],
   "source": [
    "chi=sum((df1['diff']**2)/df1['Expected'])\n",
    "chi"
   ]
  },
  {
   "cell_type": "code",
   "execution_count": 11,
   "id": "164d17d5",
   "metadata": {},
   "outputs": [],
   "source": [
    "import scipy.stats\n",
    "p_value=scipy.stats.chi2.ppf(0.5,1)"
   ]
  },
  {
   "cell_type": "code",
   "execution_count": 13,
   "id": "9e12cec6",
   "metadata": {},
   "outputs": [
    {
     "name": "stdout",
     "output_type": "stream",
     "text": [
      "P value is 0.454936423119572\n",
      "\n",
      "Since p-value is less than alpha,reject null\n"
     ]
    }
   ],
   "source": [
    "if p_value<0.5:\n",
    "    print('P value is',p_value)\n",
    "    print()\n",
    "    print('Since p-value is less than alpha,reject null')\n",
    "else:\n",
    "    print('P value is',p_value)\n",
    "    print()\n",
    "    print('Since p-value is more than alpha,accept null')"
   ]
  },
  {
   "cell_type": "code",
   "execution_count": null,
   "id": "4031a286",
   "metadata": {},
   "outputs": [],
   "source": []
  }
 ],
 "metadata": {
  "kernelspec": {
   "display_name": "Python 3 (ipykernel)",
   "language": "python",
   "name": "python3"
  },
  "language_info": {
   "codemirror_mode": {
    "name": "ipython",
    "version": 3
   },
   "file_extension": ".py",
   "mimetype": "text/x-python",
   "name": "python",
   "nbconvert_exporter": "python",
   "pygments_lexer": "ipython3",
   "version": "3.9.12"
  }
 },
 "nbformat": 4,
 "nbformat_minor": 5
}
