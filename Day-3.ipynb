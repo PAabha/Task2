{
 "cells": [
  {
   "cell_type": "code",
   "execution_count": 1,
   "id": "85cac65a",
   "metadata": {},
   "outputs": [
    {
     "name": "stdout",
     "output_type": "stream",
     "text": [
      "[[-0.57194493 -0.28182246  1.77121745]\n",
      " [ 1.62056294  1.50125186  0.14471888]]\n"
     ]
    }
   ],
   "source": [
    "from numpy import random\n",
    "\n",
    "x = random.normal(size=(2, 3))\n",
    "\n",
    "print(x)\n"
   ]
  },
  {
   "cell_type": "code",
   "execution_count": 5,
   "id": "fd652ca4",
   "metadata": {},
   "outputs": [],
   "source": [
    "df=pd.DataFrame(x)"
   ]
  },
  {
   "cell_type": "code",
   "execution_count": 8,
   "id": "30dd52c4",
   "metadata": {},
   "outputs": [
    {
     "data": {
      "text/plain": [
       "'0,1,2\\r\\n-0.5719449302497677,-0.28182246109732717,1.7712174513053447\\r\\n1.6205629387505027,1.50125186394067,0.14471888063723443\\r\\n'"
      ]
     },
     "execution_count": 8,
     "metadata": {},
     "output_type": "execute_result"
    }
   ],
   "source": [
    "df.to_csv(index=False)"
   ]
  },
  {
   "cell_type": "code",
   "execution_count": 9,
   "id": "cd0d15f9",
   "metadata": {},
   "outputs": [],
   "source": [
    "compression_opts = dict(method='zip',\n",
    "                        archive_name='out.csv')  \n",
    "df.to_csv('out.zip', index=False,\n",
    "          compression=compression_opts)  \n",
    "import os  \n",
    "os.makedirs('folder/subfolder', exist_ok=True)  \n",
    "df.to_csv('folder/subfolder/out.csv')  "
   ]
  },
  {
   "cell_type": "code",
   "execution_count": 11,
   "id": "d720a1f4",
   "metadata": {},
   "outputs": [
    {
     "data": {
      "text/html": [
       "<div>\n",
       "<style scoped>\n",
       "    .dataframe tbody tr th:only-of-type {\n",
       "        vertical-align: middle;\n",
       "    }\n",
       "\n",
       "    .dataframe tbody tr th {\n",
       "        vertical-align: top;\n",
       "    }\n",
       "\n",
       "    .dataframe thead th {\n",
       "        text-align: right;\n",
       "    }\n",
       "</style>\n",
       "<table border=\"1\" class=\"dataframe\">\n",
       "  <thead>\n",
       "    <tr style=\"text-align: right;\">\n",
       "      <th></th>\n",
       "      <th>0</th>\n",
       "      <th>1</th>\n",
       "      <th>2</th>\n",
       "    </tr>\n",
       "  </thead>\n",
       "  <tbody>\n",
       "    <tr>\n",
       "      <th>0</th>\n",
       "      <td>-0.571945</td>\n",
       "      <td>-0.281822</td>\n",
       "      <td>1.771217</td>\n",
       "    </tr>\n",
       "    <tr>\n",
       "      <th>1</th>\n",
       "      <td>1.620563</td>\n",
       "      <td>1.501252</td>\n",
       "      <td>0.144719</td>\n",
       "    </tr>\n",
       "  </tbody>\n",
       "</table>\n",
       "</div>"
      ],
      "text/plain": [
       "          0         1         2\n",
       "0 -0.571945 -0.281822  1.771217\n",
       "1  1.620563  1.501252  0.144719"
      ]
     },
     "execution_count": 11,
     "metadata": {},
     "output_type": "execute_result"
    }
   ],
   "source": [
    "pd.read_csv('folder/subfolder/out.csv',usecols=['0','1','2'])"
   ]
  },
  {
   "cell_type": "code",
   "execution_count": 12,
   "id": "210fa079",
   "metadata": {},
   "outputs": [],
   "source": [
    "from matplotlib import pyplot as plt\n",
    "%matplotlib inline\n",
    "\n",
    "plt.style.available\n",
    "plt.style.use('seaborn-white')\n",
    "age_x=[25,26,27,29,33,32,35,28,35,39]\n",
    "devop=[3525,3326,3627,3129,3633,3032,3115,3628,3435,3009]\n",
    "javadop=[4525,5326,5627,5129,5633,5032,6115,6628,6435,6009]\n"
   ]
  },
  {
   "cell_type": "code",
   "execution_count": 14,
   "id": "90354dd0",
   "metadata": {},
   "outputs": [
    {
     "data": {
      "text/plain": [
       "<matplotlib.legend.Legend at 0x1c5dadf37c0>"
      ]
     },
     "execution_count": 14,
     "metadata": {},
     "output_type": "execute_result"
    },
    {
     "data": {
      "image/png": "[encoded data removed]",
      "text/plain": [
       "<Figure size 432x288 with 1 Axes>"
      ]
     },
     "metadata": {},
     "output_type": "display_data"
    }
   ],
   "source": [
    "age_x.sort()\n",
    "devop.sort()\n",
    "javadop.sort()\n",
    "\n",
    "plt.plot(age_x,devop,'k--',label=\"All devep\")\n",
    "plt.plot(age_x,javadop,'g' ,marker='o' ,label=\"All Java \")\n",
    "plt.xlabel(\"Ages\")\n",
    "plt.ylabel(\"Median Salary (USD)\")\n",
    "plt.legend()\n"
   ]
  },
  {
   "cell_type": "code",
   "execution_count": null,
   "id": "88af6fbb",
   "metadata": {},
   "outputs": [],
   "source": []
  }
 ],
 "metadata": {
  "kernelspec": {
   "display_name": "Python 3 (ipykernel)",
   "language": "python",
   "name": "python3"
  },
  "language_info": {
   "codemirror_mode": {
    "name": "ipython",
    "version": 3
   },
   "file_extension": ".py",
   "mimetype": "text/x-python",
   "name": "python",
   "nbconvert_exporter": "python",
   "pygments_lexer": "ipython3",
   "version": "3.9.12"
  }
 },
 "nbformat": 4,
 "nbformat_minor": 5
}
