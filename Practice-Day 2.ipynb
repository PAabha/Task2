{
 "cells": [
  {
   "cell_type": "code",
   "execution_count": 1,
   "id": "ea75009c",
   "metadata": {},
   "outputs": [],
   "source": [
    "import numpy as np"
   ]
  },
  {
   "cell_type": "code",
   "execution_count": 34,
   "id": "2d472b8b",
   "metadata": {},
   "outputs": [],
   "source": [
    "import random\n",
    "import statistics"
   ]
  },
  {
   "cell_type": "code",
   "execution_count": 3,
   "id": "eca12a41",
   "metadata": {},
   "outputs": [],
   "source": [
    "#Create a code that takes in 2 arrays and tells if they are independent or not"
   ]
  },
  {
   "cell_type": "code",
   "execution_count": 15,
   "id": "13be332c",
   "metadata": {},
   "outputs": [],
   "source": [
    "def indie(a,b):\n",
    "a = [12,13,14,15,12,13,14,12,22,14,30]\n",
    "b = [20,21,22,23,12,13,14,34,12,10,9]\n",
    "    "
   ]
  },
  {
   "cell_type": "code",
   "execution_count": 35,
   "id": "66862e05",
   "metadata": {},
   "outputs": [],
   "source": [
    "meana = np.mean(a)\n",
    "meanb = np.mean(b)\n",
    "moda= statistics.mode(a)\n",
    "modb= statistics.mode(b)\n"
   ]
  },
  {
   "cell_type": "code",
   "execution_count": 31,
   "id": "5e5605e8",
   "metadata": {},
   "outputs": [
    {
     "data": {
      "text/plain": [
       "0.06741998624632708"
      ]
     },
     "execution_count": 31,
     "metadata": {},
     "output_type": "execute_result"
    }
   ],
   "source": [
    "from math import sqrt\n",
    "sumvara = 0\n",
    "for i in a:\n",
    "    sumvara+=round(i-meana,2)\n",
    "    \n",
    "varA=(sumvara/len(a))\n",
    "stdA=sqrt(abs(varA))\n",
    "varA\n",
    "stdA\n"
   ]
  },
  {
   "cell_type": "code",
   "execution_count": 32,
   "id": "f22c7655",
   "metadata": {},
   "outputs": [
    {
     "data": {
      "text/plain": [
       "0.05222329678671343"
      ]
     },
     "execution_count": 32,
     "metadata": {},
     "output_type": "execute_result"
    }
   ],
   "source": [
    "sumvarb = 0\n",
    "for j in b:\n",
    "    sumvarb+=round(j-meanb,2)\n",
    "varB=(sumvarb/len(b))\n",
    "stdB=sqrt(abs(varB))\n",
    "varB\n",
    "stdB"
   ]
  },
  {
   "cell_type": "code",
   "execution_count": 9,
   "id": "219d3162",
   "metadata": {},
   "outputs": [
    {
     "name": "stdout",
     "output_type": "stream",
     "text": [
      "-143.19421487603307\n"
     ]
    }
   ],
   "source": [
    "covar = 0\n",
    "for i in range(len(a)):\n",
    "    covar+=a[i]*b[i]\n",
    "covariance = covar/(len(a)+len(b))-meana*meanb\n",
    "print(covariance)"
   ]
  },
  {
   "cell_type": "code",
   "execution_count": 37,
   "id": "a1cd5c4c",
   "metadata": {},
   "outputs": [
    {
     "data": {
      "text/plain": [
       "52.58758927213063"
      ]
     },
     "execution_count": 37,
     "metadata": {},
     "output_type": "execute_result"
    }
   ],
   "source": [
    "skewa=(meana-moda)/stdA\n",
    "skewa\n",
    "    \n",
    "  "
   ]
  },
  {
   "cell_type": "code",
   "execution_count": 38,
   "id": "f82b9161",
   "metadata": {},
   "outputs": [
    {
     "data": {
      "text/plain": [
       "100.96504045429687"
      ]
     },
     "execution_count": 38,
     "metadata": {},
     "output_type": "execute_result"
    }
   ],
   "source": [
    "skewb=(meanb-modb)/stdB\n",
    "skewb"
   ]
  },
  {
   "cell_type": "code",
   "execution_count": 64,
   "id": "a8f673eb",
   "metadata": {},
   "outputs": [],
   "source": [
    "\n",
    "import pandas as pd\n",
    "df=pd.read_csv(\"filename.csv1.csv\")\n"
   ]
  },
  {
   "cell_type": "code",
   "execution_count": 65,
   "id": "6891cb3a",
   "metadata": {},
   "outputs": [
    {
     "data": {
      "text/html": [
       "<div>\n",
       "<style scoped>\n",
       "    .dataframe tbody tr th:only-of-type {\n",
       "        vertical-align: middle;\n",
       "    }\n",
       "\n",
       "    .dataframe tbody tr th {\n",
       "        vertical-align: top;\n",
       "    }\n",
       "\n",
       "    .dataframe thead th {\n",
       "        text-align: right;\n",
       "    }\n",
       "</style>\n",
       "<table border=\"1\" class=\"dataframe\">\n",
       "  <thead>\n",
       "    <tr style=\"text-align: right;\">\n",
       "      <th></th>\n",
       "      <th>Before Course\\t</th>\n",
       "      <th>After Course</th>\n",
       "    </tr>\n",
       "  </thead>\n",
       "  <tbody>\n",
       "    <tr>\n",
       "      <th>0</th>\n",
       "      <td>44</td>\n",
       "      <td>53</td>\n",
       "    </tr>\n",
       "    <tr>\n",
       "      <th>1</th>\n",
       "      <td>40</td>\n",
       "      <td>38</td>\n",
       "    </tr>\n",
       "    <tr>\n",
       "      <th>2</th>\n",
       "      <td>61</td>\n",
       "      <td>69</td>\n",
       "    </tr>\n",
       "    <tr>\n",
       "      <th>3</th>\n",
       "      <td>52</td>\n",
       "      <td>57</td>\n",
       "    </tr>\n",
       "    <tr>\n",
       "      <th>4</th>\n",
       "      <td>32</td>\n",
       "      <td>46</td>\n",
       "    </tr>\n",
       "    <tr>\n",
       "      <th>5</th>\n",
       "      <td>44</td>\n",
       "      <td>39</td>\n",
       "    </tr>\n",
       "    <tr>\n",
       "      <th>6</th>\n",
       "      <td>70</td>\n",
       "      <td>73</td>\n",
       "    </tr>\n",
       "    <tr>\n",
       "      <th>7</th>\n",
       "      <td>41</td>\n",
       "      <td>48</td>\n",
       "    </tr>\n",
       "    <tr>\n",
       "      <th>8</th>\n",
       "      <td>67</td>\n",
       "      <td>73</td>\n",
       "    </tr>\n",
       "    <tr>\n",
       "      <th>9</th>\n",
       "      <td>72</td>\n",
       "      <td>74</td>\n",
       "    </tr>\n",
       "    <tr>\n",
       "      <th>10</th>\n",
       "      <td>53</td>\n",
       "      <td>60</td>\n",
       "    </tr>\n",
       "    <tr>\n",
       "      <th>11</th>\n",
       "      <td>72</td>\n",
       "      <td>78</td>\n",
       "    </tr>\n",
       "  </tbody>\n",
       "</table>\n",
       "</div>"
      ],
      "text/plain": [
       "    Before Course\\t  After Course\n",
       "0                44            53\n",
       "1                40            38\n",
       "2                61            69\n",
       "3                52            57\n",
       "4                32            46\n",
       "5                44            39\n",
       "6                70            73\n",
       "7                41            48\n",
       "8                67            73\n",
       "9                72            74\n",
       "10               53            60\n",
       "11               72            78"
      ]
     },
     "execution_count": 65,
     "metadata": {},
     "output_type": "execute_result"
    }
   ],
   "source": [
    "df"
   ]
  },
  {
   "cell_type": "code",
   "execution_count": 67,
   "id": "0a978bd6",
   "metadata": {},
   "outputs": [],
   "source": [
    "df['BC']=df['Before Course\\t']\n"
   ]
  },
  {
   "cell_type": "code",
   "execution_count": 68,
   "id": "5e308c66",
   "metadata": {},
   "outputs": [],
   "source": [
    "df['AC']=df['After Course']"
   ]
  },
  {
   "cell_type": "code",
   "execution_count": 69,
   "id": "7657c442",
   "metadata": {},
   "outputs": [],
   "source": [
    "df['dev']= df['BC']-df['AC']\n",
    "df['dev2']=df['dev']**2"
   ]
  },
  {
   "cell_type": "code",
   "execution_count": 70,
   "id": "1b30a294",
   "metadata": {},
   "outputs": [
    {
     "data": {
      "text/html": [
       "<div>\n",
       "<style scoped>\n",
       "    .dataframe tbody tr th:only-of-type {\n",
       "        vertical-align: middle;\n",
       "    }\n",
       "\n",
       "    .dataframe tbody tr th {\n",
       "        vertical-align: top;\n",
       "    }\n",
       "\n",
       "    .dataframe thead th {\n",
       "        text-align: right;\n",
       "    }\n",
       "</style>\n",
       "<table border=\"1\" class=\"dataframe\">\n",
       "  <thead>\n",
       "    <tr style=\"text-align: right;\">\n",
       "      <th></th>\n",
       "      <th>Before Course\\t</th>\n",
       "      <th>After Course</th>\n",
       "      <th>BC</th>\n",
       "      <th>AC</th>\n",
       "      <th>dev</th>\n",
       "      <th>dev2</th>\n",
       "    </tr>\n",
       "  </thead>\n",
       "  <tbody>\n",
       "    <tr>\n",
       "      <th>0</th>\n",
       "      <td>44</td>\n",
       "      <td>53</td>\n",
       "      <td>44</td>\n",
       "      <td>53</td>\n",
       "      <td>-9</td>\n",
       "      <td>81</td>\n",
       "    </tr>\n",
       "    <tr>\n",
       "      <th>1</th>\n",
       "      <td>40</td>\n",
       "      <td>38</td>\n",
       "      <td>40</td>\n",
       "      <td>38</td>\n",
       "      <td>2</td>\n",
       "      <td>4</td>\n",
       "    </tr>\n",
       "    <tr>\n",
       "      <th>2</th>\n",
       "      <td>61</td>\n",
       "      <td>69</td>\n",
       "      <td>61</td>\n",
       "      <td>69</td>\n",
       "      <td>-8</td>\n",
       "      <td>64</td>\n",
       "    </tr>\n",
       "    <tr>\n",
       "      <th>3</th>\n",
       "      <td>52</td>\n",
       "      <td>57</td>\n",
       "      <td>52</td>\n",
       "      <td>57</td>\n",
       "      <td>-5</td>\n",
       "      <td>25</td>\n",
       "    </tr>\n",
       "    <tr>\n",
       "      <th>4</th>\n",
       "      <td>32</td>\n",
       "      <td>46</td>\n",
       "      <td>32</td>\n",
       "      <td>46</td>\n",
       "      <td>-14</td>\n",
       "      <td>196</td>\n",
       "    </tr>\n",
       "  </tbody>\n",
       "</table>\n",
       "</div>"
      ],
      "text/plain": [
       "   Before Course\\t  After Course  BC  AC  dev  dev2\n",
       "0               44            53  44  53   -9    81\n",
       "1               40            38  40  38    2     4\n",
       "2               61            69  61  69   -8    64\n",
       "3               52            57  52  57   -5    25\n",
       "4               32            46  32  46  -14   196"
      ]
     },
     "execution_count": 70,
     "metadata": {},
     "output_type": "execute_result"
    }
   ],
   "source": [
    "df.head()"
   ]
  },
  {
   "cell_type": "code",
   "execution_count": 74,
   "id": "0ca6c6ca",
   "metadata": {},
   "outputs": [],
   "source": [
    "df.drop(['Before Course\\t','After Course'],axis=1,inplace=True)"
   ]
  },
  {
   "cell_type": "code",
   "execution_count": 76,
   "id": "27cd9dec",
   "metadata": {},
   "outputs": [
    {
     "data": {
      "text/html": [
       "<div>\n",
       "<style scoped>\n",
       "    .dataframe tbody tr th:only-of-type {\n",
       "        vertical-align: middle;\n",
       "    }\n",
       "\n",
       "    .dataframe tbody tr th {\n",
       "        vertical-align: top;\n",
       "    }\n",
       "\n",
       "    .dataframe thead th {\n",
       "        text-align: right;\n",
       "    }\n",
       "</style>\n",
       "<table border=\"1\" class=\"dataframe\">\n",
       "  <thead>\n",
       "    <tr style=\"text-align: right;\">\n",
       "      <th></th>\n",
       "      <th>BC</th>\n",
       "      <th>AC</th>\n",
       "      <th>dev</th>\n",
       "      <th>dev2</th>\n",
       "    </tr>\n",
       "  </thead>\n",
       "  <tbody>\n",
       "    <tr>\n",
       "      <th>0</th>\n",
       "      <td>44</td>\n",
       "      <td>53</td>\n",
       "      <td>-9</td>\n",
       "      <td>81</td>\n",
       "    </tr>\n",
       "    <tr>\n",
       "      <th>1</th>\n",
       "      <td>40</td>\n",
       "      <td>38</td>\n",
       "      <td>2</td>\n",
       "      <td>4</td>\n",
       "    </tr>\n",
       "    <tr>\n",
       "      <th>2</th>\n",
       "      <td>61</td>\n",
       "      <td>69</td>\n",
       "      <td>-8</td>\n",
       "      <td>64</td>\n",
       "    </tr>\n",
       "    <tr>\n",
       "      <th>3</th>\n",
       "      <td>52</td>\n",
       "      <td>57</td>\n",
       "      <td>-5</td>\n",
       "      <td>25</td>\n",
       "    </tr>\n",
       "    <tr>\n",
       "      <th>4</th>\n",
       "      <td>32</td>\n",
       "      <td>46</td>\n",
       "      <td>-14</td>\n",
       "      <td>196</td>\n",
       "    </tr>\n",
       "  </tbody>\n",
       "</table>\n",
       "</div>"
      ],
      "text/plain": [
       "   BC  AC  dev  dev2\n",
       "0  44  53   -9    81\n",
       "1  40  38    2     4\n",
       "2  61  69   -8    64\n",
       "3  52  57   -5    25\n",
       "4  32  46  -14   196"
      ]
     },
     "execution_count": 76,
     "metadata": {},
     "output_type": "execute_result"
    }
   ],
   "source": [
    "df.head()"
   ]
  },
  {
   "cell_type": "code",
   "execution_count": 78,
   "id": "1432c8b2",
   "metadata": {},
   "outputs": [],
   "source": [
    "num=sum(df['dev'])\n",
    "den=sqrt((len(df['BC'])*sum(df['dev2'])-(sum(df['dev'])**2))/(len(df['BC'])-1))"
   ]
  },
  {
   "cell_type": "code",
   "execution_count": 79,
   "id": "b0743240",
   "metadata": {},
   "outputs": [],
   "source": [
    "ttest=num/den"
   ]
  },
  {
   "cell_type": "code",
   "execution_count": 80,
   "id": "ccff218e",
   "metadata": {},
   "outputs": [
    {
     "data": {
      "text/plain": [
       "-3.445359719553577"
      ]
     },
     "execution_count": 80,
     "metadata": {},
     "output_type": "execute_result"
    }
   ],
   "source": [
    "ttest"
   ]
  },
  {
   "cell_type": "code",
   "execution_count": 83,
   "id": "6a8bef47",
   "metadata": {},
   "outputs": [
    {
     "data": {
      "text/plain": [
       "0.0027363339091732606"
      ]
     },
     "execution_count": 83,
     "metadata": {},
     "output_type": "execute_result"
    }
   ],
   "source": [
    "import scipy.stats\n",
    "p_value=scipy.stats.t.sf(abs(ttest),len(df['BC'])-1)\n",
    "p_value"
   ]
  },
  {
   "cell_type": "code",
   "execution_count": null,
   "id": "b0a41c55",
   "metadata": {},
   "outputs": [],
   "source": []
  }
 ],
 "metadata": {
  "kernelspec": {
   "display_name": "Python 3 (ipykernel)",
   "language": "python",
   "name": "python3"
  },
  "language_info": {
   "codemirror_mode": {
    "name": "ipython",
    "version": 3
   },
   "file_extension": ".py",
   "mimetype": "text/x-python",
   "name": "python",
   "nbconvert_exporter": "python",
   "pygments_lexer": "ipython3",
   "version": "3.9.12"
  }
 },
 "nbformat": 4,
 "nbformat_minor": 5
}
