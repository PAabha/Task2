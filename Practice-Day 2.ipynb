{
 "cells": [
  {
   "cell_type": "code",
   "execution_count": 1,
   "id": "ea75009c",
   "metadata": {},
   "outputs": [],
   "source": [
    "import numpy as np"
   ]
  },
  {
   "cell_type": "code",
   "execution_count": 34,
   "id": "2d472b8b",
   "metadata": {},
   "outputs": [],
   "source": [
    "import random\n",
    "import statistics"
   ]
  },
  {
   "cell_type": "code",
   "execution_count": 3,
   "id": "eca12a41",
   "metadata": {},
   "outputs": [],
   "source": [
    "#Create a code that takes in 2 arrays and tells if they are independent or not"
   ]
  },
  {
   "cell_type": "code",
   "execution_count": 15,
   "id": "13be332c",
   "metadata": {},
   "outputs": [],
   "source": [
    "def indie(a,b):\n",
    "a = [12,13,14,15,12,13,14,12,22,14,30]\n",
    "b = [20,21,22,23,12,13,14,34,12,10,9]\n",
    "    "
   ]
  },
  {
   "cell_type": "code",
   "execution_count": 35,
   "id": "66862e05",
   "metadata": {},
   "outputs": [],
   "source": [
    "meana = np.mean(a)\n",
    "meanb = np.mean(b)\n",
    "moda= statistics.mode(a)\n",
    "modb= statistics.mode(b)\n"
   ]
  },
  {
   "cell_type": "code",
   "execution_count": 31,
   "id": "5e5605e8",
   "metadata": {},
   "outputs": [
    {
     "data": {
      "text/plain": [
       "0.06741998624632708"
      ]
     },
     "execution_count": 31,
     "metadata": {},
     "output_type": "execute_result"
    }
   ],
   "source": [
    "from math import sqrt\n",
    "sumvara = 0\n",
    "for i in a:\n",
    "    sumvara+=round(i-meana,2)\n",
    "    \n",
    "varA=(sumvara/len(a))\n",
    "stdA=sqrt(abs(varA))\n",
    "varA\n",
    "stdA\n"
   ]
  },
  {
   "cell_type": "code",
   "execution_count": 32,
   "id": "f22c7655",
   "metadata": {},
   "outputs": [
    {
     "data": {
      "text/plain": [
       "0.05222329678671343"
      ]
     },
     "execution_count": 32,
     "metadata": {},
     "output_type": "execute_result"
    }
   ],
   "source": [
    "sumvarb = 0\n",
    "for j in b:\n",
    "    sumvarb+=round(j-meanb,2)\n",
    "varB=(sumvarb/len(b))\n",
    "stdB=sqrt(abs(varB))\n",
    "varB\n",
    "stdB"
   ]
  },
  {
   "cell_type": "code",
   "execution_count": 9,
   "id": "219d3162",
   "metadata": {},
   "outputs": [
    {
     "name": "stdout",
     "output_type": "stream",
     "text": [
      "-143.19421487603307\n"
     ]
    }
   ],
   "source": [
    "covar = 0\n",
    "for i in range(len(a)):\n",
    "    covar+=a[i]*b[i]\n",
    "covariance = covar/(len(a)+len(b))-meana*meanb\n",
    "print(covariance)"
   ]
  },
  {
   "cell_type": "code",
   "execution_count": 37,
   "id": "de25f4af",
   "metadata": {},
   "outputs": [
    {
     "data": {
      "text/plain": [
       "52.58758927213063"
      ]
     },
     "execution_count": 37,
     "metadata": {},
     "output_type": "execute_result"
    }
   ],
   "source": [
    "skewa=(meana-moda)/stdA\n",
    "skewa\n",
    "    \n",
    "  "
   ]
  },
  {
   "cell_type": "code",
   "execution_count": 38,
   "id": "a419df55",
   "metadata": {},
   "outputs": [
    {
     "data": {
      "text/plain": [
       "100.96504045429687"
      ]
     },
     "execution_count": 38,
     "metadata": {},
     "output_type": "execute_result"
    }
   ],
   "source": [
    "skewb=(meanb-modb)/stdB\n",
    "skewb"
   ]
  },
  {
   "cell_type": "code",
   "execution_count": null,
   "id": "d25ced27",
   "metadata": {},
   "outputs": [],
   "source": []
  }
 ],
 "metadata": {
  "kernelspec": {
   "display_name": "Python 3 (ipykernel)",
   "language": "python",
   "name": "python3"
  },
  "language_info": {
   "codemirror_mode": {
    "name": "ipython",
    "version": 3
   },
   "file_extension": ".py",
   "mimetype": "text/x-python",
   "name": "python",
   "nbconvert_exporter": "python",
   "pygments_lexer": "ipython3",
   "version": "3.9.12"
  }
 },
 "nbformat": 4,
 "nbformat_minor": 5
}
